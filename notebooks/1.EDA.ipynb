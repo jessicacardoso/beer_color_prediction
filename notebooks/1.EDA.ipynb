{
 "cells": [
  {
   "cell_type": "markdown",
   "metadata": {},
   "source": [
    "<h1 style=\"color:#288154;text-align:center\"> 🍺 Problem Case: Predição da cor de cerveja para<svg width=\"212\" height=\"51\" viewBox=\"0 0 212 51\" fill=\"none\" xmlns=\"http://www.w3.org/2000/svg\">\n",
    "<path d=\"M161.943 23.3376C161.943 23.3376 158.014 23.3376 156.749 23.3376C155.484 23.3376 154.552 23.6721 153.553 24.8093C152.555 25.9464 146.229 33.2377 146.229 33.2377V23.3376H139.038V48.6898C139.038 49.4926 139.704 50.1615 140.503 50.1615H146.229V37.9871C146.229 37.9871 151.622 46.4155 152.555 47.8871C153.487 49.3588 154.419 50.0946 156.616 50.0946C158.747 50.0946 162.475 50.0946 162.475 50.0946L152.488 34.308L161.943 23.3376ZM131.648 23.3376C131.648 23.3376 116.134 23.3376 115.668 23.3376V47.6865C115.668 49.0243 117 50.0946 118.331 50.0946H131.581C132.38 50.0946 133.046 49.4257 133.046 48.623V45.1446H123.858C123.258 45.1446 122.792 44.6763 122.792 44.0743V38.4553H130.982V33.5722H122.792V28.2208H133.046V24.8093C133.046 24.0066 132.447 23.3376 131.648 23.3376ZM182.05 23.3376C182.05 23.3376 166.537 23.3376 166.071 23.3376V47.6865C166.071 49.0243 167.402 50.0946 168.734 50.0946H181.984C182.783 50.0946 183.449 49.4257 183.449 48.623V45.1446H174.26C173.661 45.1446 173.195 44.6763 173.195 44.0743V38.4553H181.385V33.5722H173.195V28.2208H183.449V24.8093C183.515 24.0066 182.849 23.3376 182.05 23.3376ZM80.4459 23.3376H73.255V48.6898C73.255 49.4926 73.9208 50.1615 74.7198 50.1615H80.4459V23.3376ZM65.3317 23.3376C65.3317 23.3376 49.818 23.3376 49.352 23.3376V47.6865C49.352 49.0912 50.6836 50.0946 52.0153 50.0946H65.2651C66.0641 50.0946 66.7299 49.4257 66.7299 48.623V45.1446H57.6082C57.0089 45.1446 56.5429 44.6763 56.5429 44.0743V38.4553H64.7325V33.5722H56.5429V28.2208H66.7965V24.8093C66.7965 24.0066 66.1307 23.3376 65.3317 23.3376ZM42.1611 23.3376H34.9702V33.5722H28.7115V23.3376H20.3887V24.4079C20.3887 24.4079 21.5206 24.8093 21.5206 26.214V50.1615H28.7115V38.5222H34.9702V50.1615H42.1611V23.3376ZM108.41 23.3376V48.6898C108.41 49.4926 107.745 50.1615 106.946 50.1615H102.551L92.8968 34.8431C92.8968 34.8431 93.0965 36.1141 93.0965 37.7195C93.0965 39.3249 93.0965 50.1615 93.0965 50.1615H87.77V23.4045C87.77 23.4045 88.6355 23.4045 91.2322 23.4045C93.03 23.4045 94.295 24.1404 95.2272 25.612C96.0262 26.8829 103.35 38.4553 103.35 38.4553C103.35 38.4553 103.084 37.6526 103.084 35.5789C103.084 33.4384 103.084 23.4714 103.084 23.4714H108.41V23.3376ZM211.347 23.3376V24.4079C211.347 24.4079 210.215 24.8762 210.215 26.214V48.6898C210.215 49.4926 209.549 50.1615 208.817 50.1615H204.422L194.768 34.8431C194.768 34.8431 194.967 36.1141 194.967 37.7195C194.967 39.3249 194.967 50.1615 194.967 50.1615H189.641V23.4045C189.641 23.4045 190.506 23.4045 193.103 23.4045C194.901 23.4045 196.166 24.1404 197.098 25.612C197.897 26.8829 205.221 38.4553 205.221 38.4553C205.221 38.4553 204.955 37.6526 204.955 35.5789C204.955 33.4384 204.955 23.4714 204.955 23.4714H211.347V23.3376Z\" fill=\"#00561F\"/>\n",
    "<path d=\"M7.00559 33.1039C6.67268 33.3715 6.2066 33.037 6.33977 32.6357C6.53952 32.0336 10.135 20.8626 10.135 20.8626L0.214197 13.5714C-0.185297 13.3038 0.0144502 12.7687 0.480526 12.7687C1.07977 12.7687 12.7317 12.7687 12.7317 12.7687C12.7317 12.7687 16.3271 1.59763 16.5269 1.06249C16.66 0.661136 17.2593 0.661136 17.3924 1.06249C17.5922 1.66452 21.1876 12.7687 21.1876 12.7687C21.1876 12.7687 32.8395 12.7687 33.4388 12.7687C33.9048 12.7687 34.038 13.3038 33.7051 13.5714L27.7793 17.9194H20.7881L18.5909 11.2301L16.3937 17.9194H9.46914L15.1286 22.0667L12.9314 28.7559C12.9314 28.7559 7.40509 32.8364 7.00559 33.1039Z\" fill=\"#E30613\"/>\n",
    "</svg></h1>\n",
    "\n",
    "A cervejaria de Ponta Grossa, Paraná, possui como um importante KPI o monitoramento da cor de suas cervejas e notou um problema de variação nesse indicador e decidiram utilizar ciência de dados para entender o que pode estar causando essa variação e também para ajustar esse processo. Nessa tarefa, pretendemos analisar as variáveis do problema e como elas contribuem no índice de cor da cerveja."
   ]
  },
  {
   "cell_type": "code",
   "execution_count": null,
   "metadata": {},
   "outputs": [],
   "source": [
    "import os\n",
    "\n",
    "if \"notebooks\" in os.getcwd():\n",
    "    os.chdir(\"..\")\n",
    "    print(f\"Changed working directory to {os.getcwd()}\")"
   ]
  },
  {
   "cell_type": "code",
   "execution_count": null,
   "metadata": {},
   "outputs": [],
   "source": [
    "import pandas as pd\n",
    "from beer_color_prediction import config\n",
    "\n",
    "\n",
    "df = pd.read_csv(config.RAW_DATA_DIR / \"dataset.csv\")\n",
    "df = df.drop(columns=[\"Unnamed: 0\"])"
   ]
  },
  {
   "cell_type": "markdown",
   "metadata": {},
   "source": [
    "## 1. Visão Geral\n",
    "\n",
    "O conjunto de dados possui 20 variáveis e 800 observações, sendo \"Color\" a variável de interesse (variável dependente). As variáveis usadas na análise são:\n",
    "\n",
    "\n",
    "1. **Job ID:** Identificador único de cada lote\n",
    "2. **Date/Time:** Data e hora em que o processo em lote foi iniciado\n",
    "3. **Roast amount (kg):** Quantidade de malte torrado utilizado\n",
    "4. **1st (base) malt amount (kg):** Quantidade de 1º malte base utilizado\n",
    "5. **2nd (base) malt amount (kg):** Quantidade de 2º malte base utilizado (*1º e 2º maltes são misturados durante a moagem, mas podem vir de lotes diferentes)\n",
    "6. **MT – Temperature (ºC):** Temperatura agregada do cozedor de malte\n",
    "7. **MT – Time (s):** Período de tempo que o lote permaneceu no cozedor de malte\n",
    "8. **WK – Temperature (°C):** Temperatura agregada do cozedor de mosto\n",
    "9. **WK – Steam:** Quantidade de vapor agregado do cozedor de mosto\n",
    "10. **WK – Time (s):** Período de tempo que o lote permaneceu no cozedor de mosto\n",
    "11. **Total cold wort (HL):** Volume total do lote de mosto frio após resfriamento\n",
    "12. **pH:** O pH agregado de um lote medido durante o resfriamento\n",
    "13. **Extract (ºP):** Extrato agregado de um lote medido durante o resfriamento (mede a concentração de açúcares no mosto)\n",
    "14. **Color (EBC) (Model Target):** Valor de cor gerado por um sensor (medido nas Convenções Europeias de Cervejaria)\n",
    "15. **WOC – Time (s):** Período de tempo que o lote permaneceu no resfriador de mosto\n",
    "16. **WHP Transfer – Time (s):** Tempo de transferência da Whirlpool\n",
    "17. **WHP Rest – Time (s):** Tempo de descanso da Whirlpool\n",
    "18. **Roast color (EBC):** Cor do malte torrado\n",
    "19. **1st malt color (EBC):** Cor do 1º malte\n",
    "20. **2nd malt color (EBC):** Cor do 2º malte\n",
    "21. **Product:** Produto especificado de um lote\n",
    "    - Heineken (HNK)\n",
    "    - Amstel (AMST)\n",
    "\n"
   ]
  },
  {
   "cell_type": "code",
   "execution_count": null,
   "metadata": {},
   "outputs": [],
   "source": [
    "with pd.option_context(\"display.max_columns\", None):\n",
    "    display(df)\n",
    "    display(df.describe())"
   ]
  },
  {
   "cell_type": "markdown",
   "metadata": {},
   "source": [
    "Em uma primeira análise, nota-se algumas inconsistências nos dados, como a presença de valores negativos em variáveis que representa quantidades, como \"Roast amount (kg)\", \"2nd (base) malt amount (kg)\", \"WK - Steam\" e \"Total cold wort (HL)\". Há negativos nas variáveis de tempo \"MT – Time (s)\" e \"WK – Time (s)\", mas também há valores negativos em variáveis de cor \"Roast color (EBC)\", \"1st malt color (EBC)\" e \"2nd malt color (EBC)\".\n",
    "\n",
    "As variáveis \"1st malt color\" e \"2st malt color\" são as variáveis com a distribuição mais consistente, se desconsideramos os valores negativos, vemos que do 25% quartil até o valor máximo temos variações dentro da intensidade 6."
   ]
  },
  {
   "cell_type": "code",
   "execution_count": null,
   "metadata": {},
   "outputs": [],
   "source": [
    "df[\"Job ID\"].nunique()"
   ]
  },
  {
   "cell_type": "markdown",
   "metadata": {},
   "source": [
    "Como o `Job ID` é um identificador único, colocaremos ele como índice do DataFrame. Além disso, a variável `Date/Time` foi convertida para o formato de data e hora."
   ]
  },
  {
   "cell_type": "code",
   "execution_count": null,
   "metadata": {},
   "outputs": [],
   "source": [
    "df = df.set_index(\"Job ID\")\n",
    "df[\"Date/Time\"] = pd.to_datetime(df[\"Date/Time\"])"
   ]
  },
  {
   "cell_type": "markdown",
   "metadata": {},
   "source": [
    "O produto mais frequente no conjunto é Amstel, com 460 observações e Heineken 336 observações."
   ]
  },
  {
   "cell_type": "code",
   "execution_count": null,
   "metadata": {},
   "outputs": [],
   "source": [
    "df[\"Product\"].value_counts(dropna=False)"
   ]
  },
  {
   "cell_type": "markdown",
   "metadata": {},
   "source": [
    "Das 5 linhas com produtos ausentes, a variável `Color` aparece com valor ausente em 3 delas."
   ]
  },
  {
   "cell_type": "code",
   "execution_count": null,
   "metadata": {},
   "outputs": [],
   "source": [
    "df.loc[df[\"Product\"].isna()]"
   ]
  },
  {
   "cell_type": "markdown",
   "metadata": {},
   "source": [
    "Após converter o dado de date/time para o formato correto, sabemos que a coleta de dados foi realizada entre 2020-10-22 até 2020-11-26, com uma média de 20,5 observações por dia. "
   ]
  },
  {
   "cell_type": "code",
   "execution_count": null,
   "metadata": {},
   "outputs": [],
   "source": [
    "df.shape[0] / (df[\"Date/Time\"].max() - df[\"Date/Time\"].min()).days"
   ]
  },
  {
   "cell_type": "code",
   "execution_count": null,
   "metadata": {},
   "outputs": [],
   "source": [
    "df.describe(include=\"datetime\")"
   ]
  },
  {
   "cell_type": "markdown",
   "metadata": {},
   "source": [
    "Usamos o ydata_profiling para ter uma visão geral dos dados."
   ]
  },
  {
   "cell_type": "code",
   "execution_count": null,
   "metadata": {},
   "outputs": [],
   "source": [
    "from ydata_profiling import ProfileReport\n",
    "\n",
    "profile = ProfileReport(df, title=\"Pandas Profiling Report\")\n",
    "profile"
   ]
  },
  {
   "cell_type": "markdown",
   "metadata": {},
   "source": [
    "Observações:\t\n",
    "\n",
    "- Vários dados foram coletados após 21/11\n",
    "- 13 amostras com zeros em \"1st (base) malt amount (kg)\" e 12 com zeros em \"2nd (base) malt amount (kg)\"\n",
    "\n",
    "| Variável | Ausentes | Negativos | Extremos |\n",
    "|----------|----------|-----------|----------|\n",
    "| Roast amount (kg) | 15 | 18 | 0 |\n",
    "| 1st (base) malt amount (kg) | 9 + 1 zero| 0 | 0 |\n",
    "| 2nd (base) malt amount (kg) | 3 + 12 zeros | 1 | 0 |\n",
    "| MT – Temperature (ºC) | 9 | 0 | 1 |\n",
    "| MT – Time (s) | 12 | 2 | 1? |\n",
    "| WK – Temperature (°C) | 9 | 1 | 2 |\n",
    "| WK – Steam | 6 | 3 | 1 |\n",
    "| WK – Time (s) | 5 | 1 | 0 |\n",
    "| Total cold wort (HL) | 6 | 1 | 0 |\n",
    "| pH | 12 | 2 | 0 |\n",
    "| Extract (ºP) | 5 | 1 | 1 |\n",
    "| Color (EBC) | 33 | 12 | 0 |\n",
    "| WOC – Time (s) | 5 | 0 | 1 |\n",
    "| WHP Transfer – Time (s) | 4 | 0 | 2? |\n",
    "| WHP Rest – Time (s) | 8 | 0 | 1 |\n",
    "| Roast color (EBC) | 10 | 1 | 1 |\n",
    "| 1st malt color (EBC) | 4 | 1 | 0 |\n",
    "| 2nd malt color (EBC) | 7 | 3 | 0 |\n",
    "| Product | 5 | 0 | 0 |\n",
    "\n",
    "\n",
    "Para facilitar a análise, padronizamos os nomes das variáveis, removendo espaços e caracteres especiais.\n",
    "\n",
    "\n"
   ]
  },
  {
   "cell_type": "code",
   "execution_count": null,
   "metadata": {},
   "outputs": [],
   "source": [
    "import re\n",
    "\n",
    "\n",
    "def slugify(s):\n",
    "    return re.sub(r\"\\W+\", \"_\", s).lower().strip(\"_\")\n",
    "\n",
    "\n",
    "df.columns = [slugify(col) for col in df.columns]\n",
    "\n",
    "df.columns"
   ]
  },
  {
   "cell_type": "code",
   "execution_count": null,
   "metadata": {},
   "outputs": [],
   "source": [
    "df.select_dtypes(include=\"number\").describe(percentiles=[0.01, 0.05, 0.95, 0.99]).T"
   ]
  },
  {
   "cell_type": "markdown",
   "metadata": {},
   "source": [
    "Como essas medidas são de tempo, quantidade e temperatura para cozinhar o mosto, acredito que os valores negativos são erros de inserção. A escala EBC tem algumas variações, que começam no 0 = água, passam por 3 = amarelo-palha, atingindo valores superiores a 80 = preto opaco, assim, valores negativos também são erros de inserção. Estratégias poderiam ser remover, substituir esses valores usando alguma estratégia de imputação ou usar uma regressão para preencher esses valores."
   ]
  },
  {
   "cell_type": "code",
   "execution_count": null,
   "metadata": {},
   "outputs": [],
   "source": [
    "(df.select_dtypes(include=\"number\") < 0).sum()"
   ]
  },
  {
   "cell_type": "markdown",
   "metadata": {},
   "source": [
    "Algumas variáveis tem valores máximos que se destacam sendo elas:\n",
    "\n",
    "- mt_temperature\n",
    "- mt_time\n",
    "- wk_temperature\n",
    "- wk_steam\n",
    "- wk_time\n",
    "- total_cold_wort\n",
    "- extract\n",
    "- woc_time\n",
    "- whp_rest_time\n",
    "\n",
    "\n",
    "Filtramos os top-100 valores de cada uma dessas variáveis para verificar se os valores extremos são outliers/erros de inserção ou se são valores válidos."
   ]
  },
  {
   "cell_type": "code",
   "execution_count": null,
   "metadata": {},
   "outputs": [],
   "source": [
    "import matplotlib.pyplot as plt\n",
    "import seaborn as sns\n",
    "\n",
    "fig, axs = plt.subplots(5, 2, figsize=(15, 20))\n",
    "\n",
    "filtered_columns = [\n",
    "    \"mt_temperature\",\n",
    "    \"mt_time\",\n",
    "    \"wk_temperature\",\n",
    "    \"wk_steam\",\n",
    "    \"wk_time\",\n",
    "    \"total_cold_wort\",\n",
    "    \"extract\",\n",
    "    \"woc_time\",\n",
    "    \"whp_rest_time\",\n",
    "    # \"roast_color\",\n",
    "]\n",
    "\n",
    "for col in filtered_columns:\n",
    "    biggest = df[col].nlargest(100)\n",
    "    # biggest = biggest[biggest <= biggest.quantile(0.95)]\n",
    "    sns.violinplot(x=biggest, ax=axs.flatten()[filtered_columns.index(col)], color=\"#288154\")\n",
    "\n",
    "    axs.flatten()[filtered_columns.index(col)].set_title(col)\n",
    "plt.tight_layout()"
   ]
  },
  {
   "cell_type": "markdown",
   "metadata": {},
   "source": [
    "Há apenas 13 amostras zeradas, como verificado anteriormente no profiling, sendo 12 em \"Roast amount (kg)\" e 1 em \"1st malt amount (kg)\". Esses valores podem ser preenchidos com alguma estratégia de imputação ou removidos, dependendo do impacto que esses valores podem ter na tarefa de predição. "
   ]
  },
  {
   "cell_type": "code",
   "execution_count": null,
   "metadata": {},
   "outputs": [],
   "source": [
    "df.loc[(df.select_dtypes(include=\"number\") == 0).any(axis=1)]"
   ]
  },
  {
   "cell_type": "markdown",
   "metadata": {},
   "source": [
    "Há 168 células com valores faltantes, é uma quantidade significativa, sendo interessante utilizar alguma estratégia de imputação para preencher esses valores."
   ]
  },
  {
   "cell_type": "code",
   "execution_count": null,
   "metadata": {},
   "outputs": [],
   "source": [
    "df.isna().sum()"
   ]
  },
  {
   "cell_type": "markdown",
   "metadata": {},
   "source": [
    "## 2 - Análise de dados\n",
    "\n",
    "Na sessão anterior, vimos que os números negativos provavelmente eram erros de inserção, os valores zerados eram somente 13, e os valores faltantes eram 168. Também verificamos variáveis com valores extremos, através do violin plot como `mt_temperature`, `mt_time`, `wk_temperature`, `wk_steam`, `wk_time`, `total_cold_wort`, `extract`, `woc_time`, `whp_rest_time` e `roast_color`. Nessa sessão, vamos analisar a distribuição das variáveis e a relação entre elas e a variável `Color`."
   ]
  },
  {
   "cell_type": "markdown",
   "metadata": {},
   "source": [
    "### Tratamento de valores"
   ]
  },
  {
   "cell_type": "code",
   "execution_count": null,
   "metadata": {},
   "outputs": [],
   "source": [
    "df_clean = df.copy()\n",
    "\n",
    "numeric_columns = df.select_dtypes(include=\"number\").columns\n",
    "numeric_columns = numeric_columns.drop(\"roast_color\")  # é uma constante\n",
    "\n",
    "for column in filtered_columns:\n",
    "    threshold = df_clean[column].nlargest(100).quantile(0.95)  # remover outliers\n",
    "    print(f\"Threshold for {column}: {threshold}\")\n",
    "    df_clean = df_clean[df_clean[column].le(threshold)]\n",
    "    print(f\"Number of rows after filtering: {df_clean.shape[0]}\")\n",
    "\n",
    "for column in numeric_columns:\n",
    "    df_clean = df_clean[df_clean[column].ge(0)]\n",
    "    print(f\"Number of rows after filtering {column}: {df_clean.shape[0]}\")"
   ]
  },
  {
   "cell_type": "markdown",
   "metadata": {},
   "source": [
    "Após a remoção de valores extremos, vemos que os valores ficaram mais distribuídos nos histogramas, veremos como ficará o gráfico de correlação."
   ]
  },
  {
   "cell_type": "code",
   "execution_count": null,
   "metadata": {},
   "outputs": [],
   "source": [
    "ax = df_clean.drop(columns=[\"roast_color\"]).select_dtypes(include=\"number\").hist(\n",
    "    figsize=(14, 8),\n",
    "    grid=False,\n",
    "    bins=30,\n",
    "    color=\"#288154\",\n",
    "    edgecolor=\"black\",\n",
    ")\n",
    "\n",
    "\n",
    "for sub_ax in ax.flatten():\n",
    "    sub_ax.spines[\"top\"].set_visible(False)\n",
    "    sub_ax.spines[\"right\"].set_visible(False)\n",
    "\n",
    "    sub_ax.spines[\"left\"].set_color(\"gray\")\n",
    "    sub_ax.spines[\"bottom\"].set_color(\"gray\")\n",
    "\n",
    "plt.tight_layout()\n",
    "plt.show()"
   ]
  },
  {
   "cell_type": "markdown",
   "metadata": {},
   "source": [
    "### Correlação após filtragens"
   ]
  },
  {
   "cell_type": "markdown",
   "metadata": {},
   "source": [
    "Removemos algumas linhas com valores negativos e valores extremos, para visualizar novamente a correlação entre as variáveis. Comparando a matriz de correlação criada no profiling, notamos que a correlação entre algumas variáveis ficaram mais destacadas apesar de ainda serem correlações fracas. Concentração de açúcar no mosto e volume total do mosto após as filtragens com correlação de 0.24, e também a correlação do volume total de mosto com o tempo que permeneceu no resfriador de mosto com correlação de 0.17."
   ]
  },
  {
   "cell_type": "code",
   "execution_count": null,
   "metadata": {},
   "outputs": [],
   "source": [
    "import numpy as np\n",
    "\n",
    "corr = df_clean[numeric_columns].corr()\n",
    "\n",
    "# Gera uma máscara para o triângulo superior\n",
    "mask = np.triu(np.ones_like(corr, dtype=bool))\n",
    "\n",
    "# Define uma figura do matplotlib\n",
    "ax = plt.figure(figsize=(20, 20))\n",
    "\n",
    "# Gera um colormap divergente\n",
    "cmap = sns.diverging_palette(20, 230, as_cmap=True)\n",
    "\n",
    "# Desenha um heatmap com a máscara e a correta proporção\n",
    "sns.heatmap(\n",
    "    corr,\n",
    "    mask=mask,\n",
    "    cmap=cmap,\n",
    "    vmax=1,\n",
    "    center=0,\n",
    "    square=True,\n",
    "    linewidths=0.5,\n",
    "    cbar_kws={\"shrink\": 0.5},\n",
    "    annot=True,\n",
    ")\n",
    "\n",
    "plt.show()"
   ]
  },
  {
   "cell_type": "markdown",
   "metadata": {},
   "source": [
    "- Houve o aumento da correlação entre várias variáveis, mas a maioria é menor que +0.1 ou maior que -0.1."
   ]
  },
  {
   "cell_type": "markdown",
   "metadata": {},
   "source": [
    "### Correlaçao da Amstel e Heineken separadamente\n",
    "\n",
    "Existe alguma diferença entre as variáveis para os produtos Amstel e Heineken? Vamos verificar a correlação entre as variáveis para cada produto."
   ]
  },
  {
   "cell_type": "code",
   "execution_count": null,
   "metadata": {},
   "outputs": [],
   "source": [
    "import matplotlib\n",
    "import numpy as np\n",
    "\n",
    "\n",
    "def plot_corr(df):\n",
    "\n",
    "    background_color = \"#f6f5f5\"\n",
    "\n",
    "    fig = plt.figure(figsize=(24, 10), facecolor=background_color)\n",
    "    gs = fig.add_gridspec(1, 2)\n",
    "    gs.update(wspace=-0.25, hspace=0.25)\n",
    "\n",
    "    ax0 = fig.add_subplot(gs[0, 0])\n",
    "    ax1 = fig.add_subplot(gs[0, 1])\n",
    "\n",
    "    colors = [\"#fbfbfb\", \"lightgray\", \"#0e664f\"]\n",
    "\n",
    "    colormap = matplotlib.colors.LinearSegmentedColormap.from_list(\"\", colors)\n",
    "\n",
    "    ax0.set_facecolor(background_color)\n",
    "    ax0.text(\n",
    "        0,\n",
    "        0,\n",
    "        \"Amstel\",\n",
    "        fontsize=20,\n",
    "        fontweight=\"bold\",\n",
    "        fontfamily=\"serif\",\n",
    "        color=\"lightgray\",\n",
    "    )\n",
    "\n",
    "    ax1.set_facecolor(background_color)\n",
    "    ax1.text(\n",
    "        15.5,\n",
    "        18.5,\n",
    "        \"Heineken\",\n",
    "        fontsize=20,\n",
    "        fontweight=\"bold\",\n",
    "        fontfamily=\"serif\",\n",
    "        color=\"lightgray\",\n",
    "    )\n",
    "\n",
    "    fig.text(\n",
    "        0.5,\n",
    "        0.5,\n",
    "        \"Correlação entre\\nas variáveis da\\nAmstel & Heineken\",\n",
    "        fontsize=20,\n",
    "        fontweight=\"bold\",\n",
    "        fontfamily=\"serif\",\n",
    "        va=\"center\",\n",
    "        ha=\"center\",\n",
    "    )\n",
    "\n",
    "    corr = (\n",
    "        df.query(\"product == 'AMST'\")\n",
    "        .drop(columns=[\"date_time\", \"product\"])\n",
    "        .corr()\n",
    "        .abs()\n",
    "    )\n",
    "\n",
    "    mask = np.triu(np.ones_like(corr, dtype=bool))\n",
    "    sns.heatmap(\n",
    "        corr,\n",
    "        ax=ax0,\n",
    "        vmin=-1,\n",
    "        vmax=1,\n",
    "        annot=True,\n",
    "        square=True,\n",
    "        mask=mask,\n",
    "        cbar_kws={\"orientation\": \"horizontal\"},\n",
    "        cbar=False,\n",
    "        cmap=colormap,\n",
    "        fmt=\".1g\",\n",
    "        linewidth=3,\n",
    "        linecolor=background_color,\n",
    "    )\n",
    "\n",
    "    corr = (\n",
    "        df.query(\"product == 'HNK'\").drop(columns=[\"date_time\", \"product\"]).corr().abs()\n",
    "    )\n",
    "    mask = np.tril(corr)\n",
    "    sns.heatmap(\n",
    "        corr,\n",
    "        ax=ax1,\n",
    "        vmin=-1,\n",
    "        vmax=1,\n",
    "        annot=True,\n",
    "        square=True,\n",
    "        mask=mask,\n",
    "        cbar_kws={\"orientation\": \"horizontal\"},\n",
    "        cbar=False,\n",
    "        cmap=colormap,\n",
    "        fmt=\".1g\",\n",
    "        linewidth=3,\n",
    "        linecolor=background_color,\n",
    "    )\n",
    "\n",
    "    ax1.xaxis.tick_top()\n",
    "    ax1.yaxis.tick_right()\n",
    "    ax1.tick_params(axis=\"x\", labelrotation=90)\n",
    "    ax1.tick_params(axis=\"y\", labelrotation=0)\n",
    "\n",
    "    # plt.savefig(\"reports/figures/correlation-1.png\", dpi=300, bbox_inches=\"tight\")\n",
    "    plt.show()\n",
    "\n",
    "\n",
    "plot_corr(df)"
   ]
  },
  {
   "cell_type": "markdown",
   "metadata": {},
   "source": [
    "- A temperatura do cozedor de mosto e o tempo que o lote fica no cozedor de mosto tem uma correlação de 0.3 para a Amstel \n",
    "- Na Heikenen a maior correlação está entre quantidade de malte base 1 e 2 usado, com 0.2\n",
    "- Ambas matrizes possuem correlações baixas\n",
    "\n",
    "E após remover os valores negativos e outliers, a correlação entre variáveis aumentou, mas ainda é baixa."
   ]
  },
  {
   "cell_type": "code",
   "execution_count": null,
   "metadata": {},
   "outputs": [],
   "source": [
    "plot_corr(df_clean)"
   ]
  },
  {
   "cell_type": "markdown",
   "metadata": {},
   "source": [
    "- A correlação entre a concentração de açúcares no mosto  e o volume total do lote de mosto frio após resfriamento ficou 0.4 para a Amstel \n",
    "- A correlação entre período de tempo que o lote permaneceu no cozedor de mosto e o volume total do lote de mosto frio após resfriamento ficou 0.3 para a Amstel\n",
    "- Já para Heineken a correlação entre a quantidade de vapor agregado do cozedor de mosto e o volume total do lote de mosto frio após resfriamento ficou 0.3\n",
    "- Outras correlações aumentaram, mas ainda são baixas. Pode ser interessante utiilizar uma estratégia de preenchimento em vez de remover esses valores."
   ]
  },
  {
   "cell_type": "markdown",
   "metadata": {},
   "source": [
    "### Análise entre a variável `Color` e as demais"
   ]
  },
  {
   "cell_type": "code",
   "execution_count": null,
   "metadata": {},
   "outputs": [],
   "source": [
    "import plotly.graph_objects as go\n",
    "from ipywidgets import widgets\n",
    "\n",
    "\n",
    "def plot_scatter(df):\n",
    "    columns = df.select_dtypes(include=\"number\").columns\n",
    "    columns = columns.drop([\"roast_color\", \"color\"])\n",
    "\n",
    "    features = widgets.Dropdown(\n",
    "        options=columns,\n",
    "        description=\"Feature\",\n",
    "        disabled=False,\n",
    "        value=\"roast_amount_kg\",\n",
    "    )\n",
    "\n",
    "    trace1 = go.Scatter(\n",
    "        x=df.query(\"product == 'AMST'\")[\"color\"],\n",
    "        y=df.query(\"product == 'AMST'\")[\"roast_amount_kg\"],\n",
    "        mode=\"markers\",\n",
    "        name=\"Amstel\",\n",
    "        marker=dict(color=\"#E30613\"),\n",
    "    )\n",
    "\n",
    "    trace2 = go.Scatter(\n",
    "        x=df.query(\"product == 'HNK'\")[\"color\"],\n",
    "        y=df.query(\"product == 'HNK'\")[\"roast_amount_kg\"],\n",
    "        mode=\"markers\",\n",
    "        name=\"Heineken\",\n",
    "        marker=dict(color=\"#00561F\"),\n",
    "    )\n",
    "\n",
    "    g = go.FigureWidget(\n",
    "        data=[\n",
    "            trace1,\n",
    "            trace2,\n",
    "        ],\n",
    "        layout=go.Layout(\n",
    "            title=dict(text=\"Beer Color Prediction\"),\n",
    "            barmode=\"overlay\",\n",
    "            xaxis=dict(title=\"Color\"),\n",
    "            yaxis=dict(title=\"Roast Amount (kg)\"),\n",
    "        ),\n",
    "    )\n",
    "\n",
    "    def response(change):\n",
    "        if features.value in df.columns:\n",
    "            with g.batch_update():\n",
    "                g.data[0].x = df.query(\"product == 'AMST'\")[\"color\"]\n",
    "                g.data[0].y = df.query(\"product == 'AMST'\")[features.value]\n",
    "\n",
    "                g.data[1].x = df.query(\"product == 'HNK'\")[\"color\"]\n",
    "                g.data[1].y = df.query(\"product == 'HNK'\")[features.value]\n",
    "\n",
    "    features.observe(response, names=\"value\")\n",
    "\n",
    "    return widgets.VBox([features, g])\n",
    "\n",
    "\n",
    "plot_scatter(df)"
   ]
  },
  {
   "cell_type": "markdown",
   "metadata": {},
   "source": [
    "- Após utilizar correlação de Pearson, observar histogramas e gráfico de dipersão, vemos que no geral a correlação das variáveis com a variável `Color` é baixa, além disso, os outliers estão bem destacados nos gráficos de dispersão. \n",
    "- Além disso, a forma como os pontos estão organizados no espaço de dispersão são similares para as duas cervejas."
   ]
  }
 ],
 "metadata": {
  "kernelspec": {
   "display_name": ".venv",
   "language": "python",
   "name": "python3"
  },
  "language_info": {
   "codemirror_mode": {
    "name": "ipython",
    "version": 3
   },
   "file_extension": ".py",
   "mimetype": "text/x-python",
   "name": "python",
   "nbconvert_exporter": "python",
   "pygments_lexer": "ipython3",
   "version": "3.11.2"
  }
 },
 "nbformat": 4,
 "nbformat_minor": 2
}
